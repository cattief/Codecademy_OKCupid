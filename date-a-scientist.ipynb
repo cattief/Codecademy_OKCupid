{
 "cells": [
  {
   "cell_type": "code",
   "execution_count": 1,
   "metadata": {},
   "outputs": [],
   "source": [
    "import pandas as pd\n"
   ]
  },
  {
   "cell_type": "code",
   "execution_count": 13,
   "metadata": {},
   "outputs": [],
   "source": [
    "df = pd.read_csv('profiles.csv')\n",
    "df = df.drop(['essay0','essay1','essay 2','essay3','essay4','essay5','essay6',\n",
    "       'essay7', 'essay8', 'essay9'],axis=1)\n"
   ]
  },
  {
   "cell_type": "code",
   "execution_count": 14,
   "metadata": {},
   "outputs": [
    {
     "name": "stdout",
     "output_type": "stream",
     "text": [
      "   age       body_type               diet    drinks      drugs  \\\n",
      "0   22  a little extra  strictly anything  socially      never   \n",
      "1   35         average       mostly other     often  sometimes   \n",
      "2   38            thin           anything  socially        NaN   \n",
      "3   23            thin         vegetarian  socially        NaN   \n",
      "4   29        athletic                NaN  socially      never   \n",
      "\n",
      "                           education            ethnicity  height  income  \\\n",
      "0      working on college/university         asian, white    75.0      -1   \n",
      "1              working on space camp                white    70.0   80000   \n",
      "2     graduated from masters program                  NaN    68.0      -1   \n",
      "3      working on college/university                white    71.0   20000   \n",
      "4  graduated from college/university  asian, black, other    66.0      -1   \n",
      "\n",
      "                           job  ...                         location  \\\n",
      "0               transportation  ...  south san francisco, california   \n",
      "1         hospitality / travel  ...              oakland, california   \n",
      "2                          NaN  ...        san francisco, california   \n",
      "3                      student  ...             berkeley, california   \n",
      "4  artistic / musical / writer  ...        san francisco, california   \n",
      "\n",
      "                                      offspring orientation  \\\n",
      "0  doesn&rsquo;t have kids, but might want them    straight   \n",
      "1  doesn&rsquo;t have kids, but might want them    straight   \n",
      "2                                           NaN    straight   \n",
      "3                       doesn&rsquo;t want kids    straight   \n",
      "4                                           NaN    straight   \n",
      "\n",
      "                        pets                                  religion sex  \\\n",
      "0  likes dogs and likes cats     agnosticism and very serious about it   m   \n",
      "1  likes dogs and likes cats  agnosticism but not too serious about it   m   \n",
      "2                   has cats                                       NaN   m   \n",
      "3                 likes cats                                       NaN   m   \n",
      "4  likes dogs and likes cats                                       NaN   m   \n",
      "\n",
      "                                 sign     smokes  \\\n",
      "0                              gemini  sometimes   \n",
      "1                              cancer         no   \n",
      "2  pisces but it doesn&rsquo;t matter         no   \n",
      "3                              pisces         no   \n",
      "4                            aquarius         no   \n",
      "\n",
      "                                              speaks     status  \n",
      "0                                            english     single  \n",
      "1  english (fluently), spanish (poorly), french (...     single  \n",
      "2                               english, french, c++  available  \n",
      "3                           english, german (poorly)     single  \n",
      "4                                            english     single  \n",
      "\n",
      "[5 rows x 21 columns]\n",
      "Index(['age', 'body_type', 'diet', 'drinks', 'drugs', 'education', 'ethnicity',\n",
      "       'height', 'income', 'job', 'last_online', 'location', 'offspring',\n",
      "       'orientation', 'pets', 'religion', 'sex', 'sign', 'smokes', 'speaks',\n",
      "       'status'],\n",
      "      dtype='object')\n"
     ]
    }
   ],
   "source": [
    "print(df.head())\n",
    "print(df.columns)"
   ]
  },
  {
   "cell_type": "markdown",
   "metadata": {},
   "source": [
    "Questions:\n",
    "    1 Does people with age more selective in food than young.\n",
    "    2 Is there any characteristics that imply on orientation?\n",
    "    3 Is tere any dependence in zodiak and for example status, or maybe something other?"
   ]
  },
  {
   "cell_type": "code",
   "execution_count": null,
   "metadata": {},
   "outputs": [],
   "source": []
  }
 ],
 "metadata": {
  "kernelspec": {
   "display_name": "Python 3",
   "language": "python",
   "name": "python3"
  },
  "language_info": {
   "codemirror_mode": {
    "name": "ipython",
    "version": 3
   },
   "file_extension": ".py",
   "mimetype": "text/x-python",
   "name": "python",
   "nbconvert_exporter": "python",
   "pygments_lexer": "ipython3",
   "version": "3.7.7"
  }
 },
 "nbformat": 4,
 "nbformat_minor": 4
}
